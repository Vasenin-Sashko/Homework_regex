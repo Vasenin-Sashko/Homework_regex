{
 "cells": [
  {
   "cell_type": "code",
   "execution_count": null,
   "metadata": {},
   "outputs": [],
   "source": [
    "from pprint import pprint\n",
    "# читаем адресную книгу в формате CSV в список contacts_list\n",
    "import csv\n",
    "import re \n",
    "with open(\"phonebook_raw.csv\", encoding='utf-8') as f:\n",
    "  rows = csv.reader(f, delimiter=\",\")\n",
    "  contacts_list = list(rows)\n",
    "pprint(contacts_list)"
   ]
  },
  {
   "cell_type": "code",
   "execution_count": null,
   "metadata": {},
   "outputs": [],
   "source": [
    "# TODO 1: выполните пункты 1-3 ДЗ\n",
    "# ваш код\n",
    "phone_pattern = r'(\\+7|8)?[\\s(]*(\\d{3})[\\)\\s-]*(\\d{3})[\\s-]*(\\d{2})[\\s-]*(\\d{2})[\\s\\(]*(доб\\.)*[\\s]*(\\d+)*[\\)]*'\n",
    "phone_repl = r'+7(\\2)\\3-\\4-\\5 \\6\\7'\n",
    "\n",
    "# 1)поместить Фамилию, Имя и Отчество человека в поля lastname, firstname и surname соответственно. В записной книжке изначально может быть Ф + ИО, ФИО, а может быть сразу правильно: Ф+И+О;\n",
    "# 2)привести все телефоны в формат +7(999)999-99-99. Если есть добавочный номер, формат будет такой: +7(999)999-99-99 доб.9999;\n",
    "new_contacts_list = list()\n",
    "for contact in contacts_list:\n",
    "    full_name_str = ' '.join(contact[:3]).split(' ')\n",
    "    result = [full_name_str[0], full_name_str[1], full_name_str[2], contact[3], contact[4], re.sub(phone_pattern, phone_repl, contact[5]), contact[6]]\n",
    "    new_contacts_list.append(result)\n",
    "\n",
    "#3)объединить все дублирующиеся записи о человеке в одну.\n",
    "dict_contacts = dict()\n",
    "for contact in new_contacts_list:\n",
    "    if contact[0] in dict_contacts:\n",
    "        contact_value = dict_contacts[contact[0]]\n",
    "        for i in range(len(contact_value)):\n",
    "            if contact[i]:\n",
    "                contact_value[i] = contact[i]\n",
    "    else:\n",
    "        dict_contacts[contact[0]] = contact\n",
    "result_contacts_list = list(dict_contacts.values())\n",
    "pprint(result_contacts_list)"
   ]
  },
  {
   "cell_type": "code",
   "execution_count": 82,
   "metadata": {},
   "outputs": [],
   "source": [
    "# TODO 2: сохраните получившиеся данные в другой файл\n",
    "# код для записи файла в формате CSV\n",
    "with open(\"phonebook.csv\", \"w\", encoding='utf-8') as f:\n",
    "  datawriter = csv.writer(f, delimiter=',')\n",
    "  # Вместо contacts_list подставьте свой список\n",
    "  datawriter.writerows(result_contacts_list)"
   ]
  }
 ],
 "metadata": {
  "kernelspec": {
   "display_name": "Python 3.10.2 64-bit (system)",
   "language": "python",
   "name": "python3"
  },
  "language_info": {
   "codemirror_mode": {
    "name": "ipython",
    "version": 3
   },
   "file_extension": ".py",
   "mimetype": "text/x-python",
   "name": "python",
   "nbconvert_exporter": "python",
   "pygments_lexer": "ipython3",
   "version": "3.10.2"
  },
  "orig_nbformat": 4,
  "vscode": {
   "interpreter": {
    "hash": "994fe58c225d184ae47d1f91db353c1f2f9d58fadae3179ee0bd9ae5b84726c8"
   }
  }
 },
 "nbformat": 4,
 "nbformat_minor": 2
}
